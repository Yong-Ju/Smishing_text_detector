{
 "nbformat": 4,
 "nbformat_minor": 2,
 "metadata": {
  "language_info": {
   "name": "python",
   "codemirror_mode": {
    "name": "ipython",
    "version": 3
   },
   "version": "3.8.0-final"
  },
  "orig_nbformat": 2,
  "file_extension": ".py",
  "mimetype": "text/x-python",
  "name": "python",
  "npconvert_exporter": "python",
  "pygments_lexer": "ipython3",
  "version": 3,
  "kernelspec": {
   "name": "python38032bitee597b805b7a46b18147c48e26e664de",
   "display_name": "Python 3.8.0 32-bit"
  }
 },
 "cells": [
  {
   "cell_type": "code",
   "execution_count": 62,
   "metadata": {},
   "outputs": [],
   "source": [
    "from bs4 import BeautifulSoup\n",
    "import requests"
   ]
  },
  {
   "cell_type": "code",
   "execution_count": 42,
   "metadata": {},
   "outputs": [],
   "source": [
    "url = \"http://www.fundsupermarket.co.kr/fmm/FMM1010301/main.do\"\n",
    "req = request.request(url)\n",
    "html = requests.get(url).text\n",
    "bs = BeautifulSoup(html, 'html.parser')"
   ]
  },
  {
   "cell_type": "code",
   "execution_count": 73,
   "metadata": {},
   "outputs": [],
   "source": [
    "# print(bs, type(bs))\n",
    "cont_li = bs.find(id = 'fundList')\n",
    "cont_li = bs.find(\"div\", class_=\"new-fund-list\")"
   ]
  },
  {
   "cell_type": "code",
   "execution_count": 74,
   "metadata": {},
   "outputs": [
    {
     "name": "stdout",
     "output_type": "stream",
     "text": "<div class=\"new-fund-list\">\n <!-- sort -->\n <div class=\"mg-t10 clear\">\n  <form id=\"selection\" method=\"post\" name=\"selection\">\n   <input id=\"listType\" name=\"listType\" type=\"hidden\" value=\"1\"/>\n   <input id=\"menuTabNo\" name=\"menuTabNo\" type=\"hidden\"/>\n   <input id=\"totCnt\" name=\"totCnt\" type=\"hidden\" value=\"10\"/>\n   <input id=\"pageCnt\" name=\"pageCnt\" type=\"hidden\" value=\"20\"/>\n   <input id=\"pageNo\" name=\"pageNo\" type=\"hidden\" value=\"1\"/>\n   <input id=\"fpCode\" name=\"fpCode\" type=\"hidden\"/>\n   <input id=\"prgId\" name=\"prgId\" type=\"hidden\" value=\"FMM1010301\"/>\n   <input id=\"listSort\" name=\"listSort\" type=\"hidden\" value=\"1\"/>\n   <input id=\"gridSort\" name=\"gridSort\" type=\"hidden\"/>\n   <input id=\"upDown\" name=\"upDown\" type=\"hidden\" value=\"DOWN\"/>\n   <input id=\"sortTitle\" name=\"sortTitle\" type=\"hidden\" value=\"내림차순\"/>\n   <input id=\"sortCol\" name=\"sortCol\" type=\"hidden\" value=\"\"/>\n   <!-- 펀드리스트 soring 영역 -->\n   <div class=\"list-search clear\">\n    <div class=\"cate-area\">\n     <span class=\"cate\">\n      총\n      <strong id=\"totalCount\">\n       0\n      </strong>\n      건\n     </span>\n     <span class=\"cate\">\n      <select id=\"ptnCode\" name=\"ptnCode\" style=\"width:110px;\" title=\"전체유형(대)\">\n       <option value=\"\">\n        전체유형(대)\n       </option>\n       <option value=\"20\">\n        국내주식형\n       </option>\n       <option value=\"21\">\n        국내주식혼합형\n       </option>\n       <option value=\"22\">\n        국내채권혼합형\n       </option>\n       <option value=\"10\">\n        국내채권형\n       </option>\n       <option value=\"11\">\n        국내MMF\n       </option>\n       <option value=\"29\">\n        국내기타\n       </option>\n       <option value=\"60\">\n        해외주식형\n       </option>\n       <option value=\"61\">\n        해외주식혼합형\n       </option>\n       <option value=\"62\">\n        해외채권혼합형\n       </option>\n       <option value=\"50\">\n        해외채권형\n       </option>\n       <option value=\"69\">\n        해외기타\n       </option>\n      </select>\n     </span>\n     <span class=\"cate\">\n      <select id=\"ptnCode3\" name=\"ptnCode3\" style=\"width:100px;\" title=\"전체유형(소)\">\n       <option value=\"\">\n        전체유형(소)\n       </option>\n      </select>\n     </span>\n     <span class=\"cate02\">\n      <select id=\"evalTp\" name=\"evalTp\" style=\"width:120px;\" title=\"정렬선택\">\n       <option value=\"0\">\n        정렬선택\n       </option>\n       <option value=\"1\">\n        펀드규모순\n       </option>\n       <option value=\"2\">\n        평가등급순\n       </option>\n       <option value=\"21\">\n        1일 수익률순\n       </option>\n       <option value=\"3\">\n        3개월 수익률순\n       </option>\n       <option value=\"4\">\n        6개월 수익률순\n       </option>\n       <option value=\"5\">\n        1년   수익률순\n       </option>\n       <option value=\"6\">\n        3년   수익률순\n       </option>\n       <option value=\"18\">\n        1개월 판매액순\n       </option>\n       <option value=\"19\">\n        3개월 판매액순\n       </option>\n       <option value=\"20\">\n        6개월 판매액순\n       </option>\n       <option value=\"9\">\n        1개월 유입액순\n       </option>\n       <option value=\"10\">\n        3개월 유입액순\n       </option>\n       <option value=\"11\">\n        6개월 유입액순\n       </option>\n      </select>\n     </span>\n     <span>\n      <label for=\"fundName\">\n       <input class=\"input-text\" id=\"fundName\" name=\"fundName\" onkeydown=\"javascript:if(event.keyCode==13){search();}\" placeholder=\"펀드명 검색\" title=\"펀드명 검색\" type=\"text\" value=\"\"/>\n      </label>\n      <span class=\"button02 white-bt search-bt\">\n       <button id=\"apply\" onclick=\"javascript:search();\" type=\"button\">\n        적용\n       </button>\n      </span>\n     </span>\n    </div>\n    <div class=\"sorting-area\">\n     <a class=\"list-setting\" href=\"javascript:openDiv();\" id=\"open\">\n      리스트조건설정\n     </a>\n     <a class=\"list-setting\" href=\"javascript:closeDiv()\" id=\"close\" style=\"display:none;\">\n      리스트조건설정\n     </a>\n     <!-- 리스트설정 layer  -->\n     <div class=\"lay-cont\" id=\"Pop\" style=\"display:none;\">\n      <ul class=\"lay-list-st02\">\n       <li>\n        <dl>\n         <dt>\n          <!-- 2015-04-30 //-->\n          <div class=\"relative\">\n           평가등급\n           <a class=\"btn-question tooltip-help\" href=\"#\">\n            <span class=\"blind\">\n             평가등급 설명\n            </span>\n            <!-- 2015-01-23 접근성 수정 -->\n            <!-- tooltip-wrap -->\n            <span class=\"tooltip-wrap type02\" style=\"bottom:25px; left:-38px; width:310px;\">\n             <span class=\"tooltip-t\">\n              <span class=\"tooltip-lt\">\n              </span>\n              <span class=\"tooltip-rt\">\n              </span>\n             </span>\n             <span class=\"tooltip-content\">\n              <span>\n               평가등급을 지정하시면 펀드리스트 정렬기준에 적용되며, 펀드정보 제공화면에서 주요 평가등급으로 표기됩니다.\n              </span>\n             </span>\n             <span class=\"tooltip-b\">\n              <span class=\"tooltip-lb\">\n              </span>\n              <span class=\"tooltip-rb\">\n              </span>\n              <span class=\"tooltip-focus\">\n              </span>\n             </span>\n            </span>\n            <!-- tooltip-wrap // -->\n           </a>\n          </div>\n          <!--// 2015-04-30 -->\n         </dt>\n         <dd>\n          <fieldset class=\"radio-txt\">\n           <legend>\n            평가등급선택\n           </legend>\n           <label for=\"fl_01\">\n            <input checked=\"checked\" class=\"input-radio02\" id=\"fl_01\" name=\"gradeGbn\" title=\"제로인\" type=\"radio\" value=\"1\"/>\n            제로인\n           </label>\n           <label for=\"fl_02\">\n            <input class=\"input-radio02\" id=\"fl_02\" name=\"gradeGbn\" title=\"에프앤가이드\" type=\"radio\" value=\"3\"/>\n            에프앤가이드\n           </label>\n           <label for=\"fl_03\">\n            <input class=\"input-radio02\" id=\"fl_03\" name=\"gradeGbn\" title=\"모닝스타\" type=\"radio\" value=\"2\"/>\n            모닝스타\n           </label>\n           <label for=\"fl_04\">\n            <input class=\"input-radio02\" id=\"fl_04\" name=\"gradeGbn\" title=\"한국펀드평가\" type=\"radio\" value=\"4\"/>\n            한국펀드평가\n           </label>\n          </fieldset>\n         </dd>\n        </dl>\n       </li>\n       <!-- 2015-04-15 추가 //-->\n       <li>\n        <dl>\n         <dt>\n          <!-- 2015-04-30 //-->\n          <div class=\"relative\">\n           선호수익률\n           <a class=\"btn-question tooltip-help\" href=\"#\">\n            <span class=\"blind\">\n             선호수익률 설명\n            </span>\n            <!-- 2015-01-23 접근성 수정 -->\n            <!-- tooltip-wrap -->\n            <span class=\"tooltip-wrap type02\" style=\"bottom:25px; left:-27px; width:310px;\">\n             <span class=\"tooltip-t\">\n              <span class=\"tooltip-lt\">\n              </span>\n              <span class=\"tooltip-rt\">\n              </span>\n             </span>\n             <span class=\"tooltip-content\">\n              <span>\n               선호수익률을 지정하시면 펀드리스트 정렬기준에 적용되며, 펀드정보 제공화면에서 주요 수익률로 표기됩니다.\n              </span>\n             </span>\n             <span class=\"tooltip-b\">\n              <span class=\"tooltip-lb\">\n              </span>\n              <span class=\"tooltip-rb\">\n              </span>\n              <span class=\"tooltip-focus\">\n              </span>\n             </span>\n            </span>\n            <!-- tooltip-wrap // -->\n           </a>\n          </div>\n          <!--// 2015-04-30 -->\n         </dt>\n         <dd>\n          <fieldset class=\"radio-txt\">\n           <legend>\n            선호수익률 선택\n           </legend>\n           <label for=\"fli_01\">\n            <input class=\"input-radio02\" id=\"fli_01\" name=\"likeRlzrt\" title=\"3개월\" type=\"radio\" value=\"3\"/>\n            3개월\n           </label>\n           <label for=\"fli_02\">\n            <input class=\"input-radio02\" id=\"fli_02\" name=\"likeRlzrt\" title=\"6개월\" type=\"radio\" value=\"6\"/>\n            6개월\n           </label>\n           <label for=\"fli_03\">\n            <input class=\"input-radio02\" id=\"fli_03\" name=\"likeRlzrt\" title=\"1년\" type=\"radio\" value=\"12\"/>\n            1년\n           </label>\n           <label for=\"fli_04\">\n            <input class=\"input-radio02\" id=\"fli_04\" name=\"likeRlzrt\" title=\"3년\" type=\"radio\" value=\"36\"/>\n            3년\n           </label>\n          </fieldset>\n         </dd>\n        </dl>\n       </li>\n       <!--// 2015-04-15 추가 -->\n       <li>\n        <fieldset class=\"chk-txt\">\n         <legend>\n          노출펀드 선택\n         </legend>\n         <!-- <label for=\"fl_05\"><input type=\"checkbox\" name=\"dlgYn\" class=\"input-check02\" id=\"fl_05\" title=\"성과를 대표 클래스로 노출\" />성과를 대표 클래스로 노출</label> -->\n         <label for=\"openAbleYn\">\n          <input checked=\"\" class=\"input-check02\" id=\"openAbleYn\" name=\"openAbleYn\" title=\"판매중인 펀드만 노출\" type=\"checkbox\" value=\"Y\"/>\n          판매중인 펀드만 노출\n         </label>\n        </fieldset>\n       </li>\n       <li>\n        <label for=\"millYn\">\n         <input class=\"input-check02\" id=\"millYn\" name=\"millYn\" title=\"운용규모 100억 이상 펀드만 노출\" type=\"checkbox\" value=\"N\"/>\n         운용규모 100억 이상 펀드만 노출\n        </label>\n       </li>\n      </ul>\n      <div class=\"bt-area\">\n       <span class=\"button02 white-bt\">\n        <button id=\"sendPop\" onclick=\"javascript:search();\" type=\"button\">\n         적용\n        </button>\n       </span>\n       <span class=\"button02 white-bt\">\n        <button id=\"closePop\" onclick=\"javascript:closeDiv();\" type=\"button\">\n         취소\n        </button>\n       </span>\n      </div>\n     </div>\n     <span class=\"button02 white-bt\">\n      <button onclick=\"javascript:compare();\" type=\"button\">\n       <span class=\"icon-chk\">\n       </span>\n       펀드비교\n       <strong class=\"cnt\">\n        (0)\n       </strong>\n      </button>\n     </span>\n     <!-- <a href=\"javascript:compare();\" class=\"btn-white-w100\"><i class=\"check-mark\"></i><span id='selectionCom1'>펀드비교(0)</span></a> -->\n     <ul class=\"grid-area clear\">\n      <li>\n       <span class=\"bt-img grid-st current\" id=\"grid_span\">\n        <button class=\"grid\" id=\"grid\" onclick=\"javascript:clickList('1');\" type=\"button\">\n         <i class=\"blind\">\n          리스트형식 보기\n         </i>\n        </button>\n       </span>\n      </li>\n      <li>\n       <span class=\"bt-img grid-st\" id=\"box_span\">\n        <button class=\"box\" id=\"box\" onclick=\"javascript:clickList('2');\" type=\"button\">\n         <i class=\"blind\">\n          박스형식 보기\n         </i>\n        </button>\n       </span>\n      </li>\n      <li>\n       <span class=\"bt-img grid-st\" id=\"list_span\">\n        <button class=\"list\" id=\"list\" onclick=\"javascript:clickList('3');\" type=\"button\">\n         <i class=\"blind\">\n          표형식 보기\n         </i>\n        </button>\n       </span>\n      </li>\n     </ul>\n    </div>\n   </div>\n   <!--// 펀드리스트 soring 영역 -->\n  </form>\n </div>\n <!-- sort //-->\n <!-- 리스트 //-->\n <div id=\"fundList\" name=\"fundList\" style=\"overflow:visible;\">\n </div>\n <ul class=\"list-type3 sp01\">\n  <li>\n   정렬결과에 따라 우선순위가 동등한 펀드간에는 S클래스우선, 제로인 등급순, 3년 수익률순으로 정렬되며, 리스트조건설정의 변경에 따라 정렬기준이 달라질 수 있습니다.\n  </li>\n  <li>\n   기간수익률, 위험지표, 평가등급은 대표클래스로 산출된 값이며, 당일기준가는 오전 10시 30분 이후부터 제공됩니다.\n  </li>\n  <li>\n   평가등급은 각 평가사의 평가기준에 따라 동일유형 내에서 비교한 등급으로 1등급이 가장 좋은 등급입니다.\n  </li>\n  <li>\n   이 금융상품은 예금자보호법에 따라 예금보험공사가 보호하지 않습니다.\n  </li>\n </ul>\n <!-- 페이징 -->\n <div class=\"paging\">\n  <div class=\"page-num\">\n  </div>\n </div>\n</div>\n\n"
    }
   ],
   "source": [
    "print(cont_li.prettify())"
   ]
  },
  {
   "cell_type": "code",
   "execution_count": 75,
   "metadata": {},
   "outputs": [],
   "source": [
    "from selenium import webdriver"
   ]
  },
  {
   "cell_type": "code",
   "execution_count": 78,
   "metadata": {},
   "outputs": [],
   "source": [
    "path = \"D:/Multi_campus/Git_repository/Study/R_study/selenium-server-standalone-master/bin/chromedriver.exe\"\n",
    "driver = webdriver.Chrome(path)"
   ]
  },
  {
   "cell_type": "code",
   "execution_count": 79,
   "metadata": {},
   "outputs": [],
   "source": [
    "driver.get(\"http://www.fundsupermarket.co.kr/fmm/FMM1010301/main.do\")"
   ]
  },
  {
   "cell_type": "code",
   "execution_count": 87,
   "metadata": {},
   "outputs": [],
   "source": [
    "contents = driver.find_element_by_id=('fundList')"
   ]
  },
  {
   "cell_type": "code",
   "execution_count": 90,
   "metadata": {},
   "outputs": [
    {
     "ename": "MissingSchema",
     "evalue": "Invalid URL 'fundList': No schema supplied. Perhaps you meant http://fundList?",
     "output_type": "error",
     "traceback": [
      "\u001b[1;31m---------------------------------------------------------------------------\u001b[0m",
      "\u001b[1;31mMissingSchema\u001b[0m                             Traceback (most recent call last)",
      "\u001b[1;32m<ipython-input-90-60b88370922e>\u001b[0m in \u001b[0;36m<module>\u001b[1;34m\u001b[0m\n\u001b[0;32m      1\u001b[0m \u001b[1;31m# cont_li = contents.find\u001b[0m\u001b[1;33m\u001b[0m\u001b[1;33m\u001b[0m\u001b[1;33m\u001b[0m\u001b[0m\n\u001b[0;32m      2\u001b[0m \u001b[1;31m#  contents.find(\"div\", class_=\"new-fund-list\")\u001b[0m\u001b[1;33m\u001b[0m\u001b[1;33m\u001b[0m\u001b[1;33m\u001b[0m\u001b[0m\n\u001b[1;32m----> 3\u001b[1;33m \u001b[0mcontents\u001b[0m \u001b[1;33m=\u001b[0m  \u001b[0mrequests\u001b[0m\u001b[1;33m.\u001b[0m\u001b[0mget\u001b[0m\u001b[1;33m(\u001b[0m\u001b[0mcontents\u001b[0m\u001b[1;33m)\u001b[0m\u001b[1;33m.\u001b[0m\u001b[0mtext\u001b[0m\u001b[1;33m\u001b[0m\u001b[1;33m\u001b[0m\u001b[0m\n\u001b[0m",
      "\u001b[1;32m~\\AppData\\Local\\Programs\\Python\\Python38-32\\lib\\site-packages\\requests\\api.py\u001b[0m in \u001b[0;36mget\u001b[1;34m(url, params, **kwargs)\u001b[0m\n\u001b[0;32m     73\u001b[0m \u001b[1;33m\u001b[0m\u001b[0m\n\u001b[0;32m     74\u001b[0m     \u001b[0mkwargs\u001b[0m\u001b[1;33m.\u001b[0m\u001b[0msetdefault\u001b[0m\u001b[1;33m(\u001b[0m\u001b[1;34m'allow_redirects'\u001b[0m\u001b[1;33m,\u001b[0m \u001b[1;32mTrue\u001b[0m\u001b[1;33m)\u001b[0m\u001b[1;33m\u001b[0m\u001b[1;33m\u001b[0m\u001b[0m\n\u001b[1;32m---> 75\u001b[1;33m     \u001b[1;32mreturn\u001b[0m \u001b[0mrequest\u001b[0m\u001b[1;33m(\u001b[0m\u001b[1;34m'get'\u001b[0m\u001b[1;33m,\u001b[0m \u001b[0murl\u001b[0m\u001b[1;33m,\u001b[0m \u001b[0mparams\u001b[0m\u001b[1;33m=\u001b[0m\u001b[0mparams\u001b[0m\u001b[1;33m,\u001b[0m \u001b[1;33m**\u001b[0m\u001b[0mkwargs\u001b[0m\u001b[1;33m)\u001b[0m\u001b[1;33m\u001b[0m\u001b[1;33m\u001b[0m\u001b[0m\n\u001b[0m\u001b[0;32m     76\u001b[0m \u001b[1;33m\u001b[0m\u001b[0m\n\u001b[0;32m     77\u001b[0m \u001b[1;33m\u001b[0m\u001b[0m\n",
      "\u001b[1;32m~\\AppData\\Local\\Programs\\Python\\Python38-32\\lib\\site-packages\\requests\\api.py\u001b[0m in \u001b[0;36mrequest\u001b[1;34m(method, url, **kwargs)\u001b[0m\n\u001b[0;32m     58\u001b[0m     \u001b[1;31m# cases, and look like a memory leak in others.\u001b[0m\u001b[1;33m\u001b[0m\u001b[1;33m\u001b[0m\u001b[1;33m\u001b[0m\u001b[0m\n\u001b[0;32m     59\u001b[0m     \u001b[1;32mwith\u001b[0m \u001b[0msessions\u001b[0m\u001b[1;33m.\u001b[0m\u001b[0mSession\u001b[0m\u001b[1;33m(\u001b[0m\u001b[1;33m)\u001b[0m \u001b[1;32mas\u001b[0m \u001b[0msession\u001b[0m\u001b[1;33m:\u001b[0m\u001b[1;33m\u001b[0m\u001b[1;33m\u001b[0m\u001b[0m\n\u001b[1;32m---> 60\u001b[1;33m         \u001b[1;32mreturn\u001b[0m \u001b[0msession\u001b[0m\u001b[1;33m.\u001b[0m\u001b[0mrequest\u001b[0m\u001b[1;33m(\u001b[0m\u001b[0mmethod\u001b[0m\u001b[1;33m=\u001b[0m\u001b[0mmethod\u001b[0m\u001b[1;33m,\u001b[0m \u001b[0murl\u001b[0m\u001b[1;33m=\u001b[0m\u001b[0murl\u001b[0m\u001b[1;33m,\u001b[0m \u001b[1;33m**\u001b[0m\u001b[0mkwargs\u001b[0m\u001b[1;33m)\u001b[0m\u001b[1;33m\u001b[0m\u001b[1;33m\u001b[0m\u001b[0m\n\u001b[0m\u001b[0;32m     61\u001b[0m \u001b[1;33m\u001b[0m\u001b[0m\n\u001b[0;32m     62\u001b[0m \u001b[1;33m\u001b[0m\u001b[0m\n",
      "\u001b[1;32m~\\AppData\\Local\\Programs\\Python\\Python38-32\\lib\\site-packages\\requests\\sessions.py\u001b[0m in \u001b[0;36mrequest\u001b[1;34m(self, method, url, params, data, headers, cookies, files, auth, timeout, allow_redirects, proxies, hooks, stream, verify, cert, json)\u001b[0m\n\u001b[0;32m    517\u001b[0m             \u001b[0mhooks\u001b[0m\u001b[1;33m=\u001b[0m\u001b[0mhooks\u001b[0m\u001b[1;33m,\u001b[0m\u001b[1;33m\u001b[0m\u001b[1;33m\u001b[0m\u001b[0m\n\u001b[0;32m    518\u001b[0m         )\n\u001b[1;32m--> 519\u001b[1;33m         \u001b[0mprep\u001b[0m \u001b[1;33m=\u001b[0m \u001b[0mself\u001b[0m\u001b[1;33m.\u001b[0m\u001b[0mprepare_request\u001b[0m\u001b[1;33m(\u001b[0m\u001b[0mreq\u001b[0m\u001b[1;33m)\u001b[0m\u001b[1;33m\u001b[0m\u001b[1;33m\u001b[0m\u001b[0m\n\u001b[0m\u001b[0;32m    520\u001b[0m \u001b[1;33m\u001b[0m\u001b[0m\n\u001b[0;32m    521\u001b[0m         \u001b[0mproxies\u001b[0m \u001b[1;33m=\u001b[0m \u001b[0mproxies\u001b[0m \u001b[1;32mor\u001b[0m \u001b[1;33m{\u001b[0m\u001b[1;33m}\u001b[0m\u001b[1;33m\u001b[0m\u001b[1;33m\u001b[0m\u001b[0m\n",
      "\u001b[1;32m~\\AppData\\Local\\Programs\\Python\\Python38-32\\lib\\site-packages\\requests\\sessions.py\u001b[0m in \u001b[0;36mprepare_request\u001b[1;34m(self, request)\u001b[0m\n\u001b[0;32m    450\u001b[0m \u001b[1;33m\u001b[0m\u001b[0m\n\u001b[0;32m    451\u001b[0m         \u001b[0mp\u001b[0m \u001b[1;33m=\u001b[0m \u001b[0mPreparedRequest\u001b[0m\u001b[1;33m(\u001b[0m\u001b[1;33m)\u001b[0m\u001b[1;33m\u001b[0m\u001b[1;33m\u001b[0m\u001b[0m\n\u001b[1;32m--> 452\u001b[1;33m         p.prepare(\n\u001b[0m\u001b[0;32m    453\u001b[0m             \u001b[0mmethod\u001b[0m\u001b[1;33m=\u001b[0m\u001b[0mrequest\u001b[0m\u001b[1;33m.\u001b[0m\u001b[0mmethod\u001b[0m\u001b[1;33m.\u001b[0m\u001b[0mupper\u001b[0m\u001b[1;33m(\u001b[0m\u001b[1;33m)\u001b[0m\u001b[1;33m,\u001b[0m\u001b[1;33m\u001b[0m\u001b[1;33m\u001b[0m\u001b[0m\n\u001b[0;32m    454\u001b[0m             \u001b[0murl\u001b[0m\u001b[1;33m=\u001b[0m\u001b[0mrequest\u001b[0m\u001b[1;33m.\u001b[0m\u001b[0murl\u001b[0m\u001b[1;33m,\u001b[0m\u001b[1;33m\u001b[0m\u001b[1;33m\u001b[0m\u001b[0m\n",
      "\u001b[1;32m~\\AppData\\Local\\Programs\\Python\\Python38-32\\lib\\site-packages\\requests\\models.py\u001b[0m in \u001b[0;36mprepare\u001b[1;34m(self, method, url, headers, files, data, params, auth, cookies, hooks, json)\u001b[0m\n\u001b[0;32m    311\u001b[0m \u001b[1;33m\u001b[0m\u001b[0m\n\u001b[0;32m    312\u001b[0m         \u001b[0mself\u001b[0m\u001b[1;33m.\u001b[0m\u001b[0mprepare_method\u001b[0m\u001b[1;33m(\u001b[0m\u001b[0mmethod\u001b[0m\u001b[1;33m)\u001b[0m\u001b[1;33m\u001b[0m\u001b[1;33m\u001b[0m\u001b[0m\n\u001b[1;32m--> 313\u001b[1;33m         \u001b[0mself\u001b[0m\u001b[1;33m.\u001b[0m\u001b[0mprepare_url\u001b[0m\u001b[1;33m(\u001b[0m\u001b[0murl\u001b[0m\u001b[1;33m,\u001b[0m \u001b[0mparams\u001b[0m\u001b[1;33m)\u001b[0m\u001b[1;33m\u001b[0m\u001b[1;33m\u001b[0m\u001b[0m\n\u001b[0m\u001b[0;32m    314\u001b[0m         \u001b[0mself\u001b[0m\u001b[1;33m.\u001b[0m\u001b[0mprepare_headers\u001b[0m\u001b[1;33m(\u001b[0m\u001b[0mheaders\u001b[0m\u001b[1;33m)\u001b[0m\u001b[1;33m\u001b[0m\u001b[1;33m\u001b[0m\u001b[0m\n\u001b[0;32m    315\u001b[0m         \u001b[0mself\u001b[0m\u001b[1;33m.\u001b[0m\u001b[0mprepare_cookies\u001b[0m\u001b[1;33m(\u001b[0m\u001b[0mcookies\u001b[0m\u001b[1;33m)\u001b[0m\u001b[1;33m\u001b[0m\u001b[1;33m\u001b[0m\u001b[0m\n",
      "\u001b[1;32m~\\AppData\\Local\\Programs\\Python\\Python38-32\\lib\\site-packages\\requests\\models.py\u001b[0m in \u001b[0;36mprepare_url\u001b[1;34m(self, url, params)\u001b[0m\n\u001b[0;32m    385\u001b[0m             \u001b[0merror\u001b[0m \u001b[1;33m=\u001b[0m \u001b[0merror\u001b[0m\u001b[1;33m.\u001b[0m\u001b[0mformat\u001b[0m\u001b[1;33m(\u001b[0m\u001b[0mto_native_string\u001b[0m\u001b[1;33m(\u001b[0m\u001b[0murl\u001b[0m\u001b[1;33m,\u001b[0m \u001b[1;34m'utf8'\u001b[0m\u001b[1;33m)\u001b[0m\u001b[1;33m)\u001b[0m\u001b[1;33m\u001b[0m\u001b[1;33m\u001b[0m\u001b[0m\n\u001b[0;32m    386\u001b[0m \u001b[1;33m\u001b[0m\u001b[0m\n\u001b[1;32m--> 387\u001b[1;33m             \u001b[1;32mraise\u001b[0m \u001b[0mMissingSchema\u001b[0m\u001b[1;33m(\u001b[0m\u001b[0merror\u001b[0m\u001b[1;33m)\u001b[0m\u001b[1;33m\u001b[0m\u001b[1;33m\u001b[0m\u001b[0m\n\u001b[0m\u001b[0;32m    388\u001b[0m \u001b[1;33m\u001b[0m\u001b[0m\n\u001b[0;32m    389\u001b[0m         \u001b[1;32mif\u001b[0m \u001b[1;32mnot\u001b[0m \u001b[0mhost\u001b[0m\u001b[1;33m:\u001b[0m\u001b[1;33m\u001b[0m\u001b[1;33m\u001b[0m\u001b[0m\n",
      "\u001b[1;31mMissingSchema\u001b[0m: Invalid URL 'fundList': No schema supplied. Perhaps you meant http://fundList?"
     ]
    }
   ],
   "source": [
    "# cont_li = contents.find\n",
    "#  contents.find(\"div\", class_=\"new-fund-list\")\n",
    "contents =  requests.get(contents).text"
   ]
  },
  {
   "cell_type": "code",
   "execution_count": null,
   "metadata": {},
   "outputs": [],
   "source": []
  }
 ]
}